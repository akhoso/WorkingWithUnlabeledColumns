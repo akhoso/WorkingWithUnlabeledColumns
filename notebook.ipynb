{
 "cells": [
  {
   "cell_type": "code",
   "execution_count": 1,
   "metadata": {},
   "outputs": [],
   "source": [
    "import pandas as pd\n",
    "import numpy as np\n",
    "import matplotlib.pyplot as plt\n",
    "import seaborn as sns\n",
    "\n",
    "from sklearn.preprocessing import KBinsDiscretizer,RobustScaler,MinMaxScaler,OrdinalEncoder,LabelEncoder,PolynomialFeatures,StandardScaler,OneHotEncoder\n",
    "from sklearn.linear_model import LogisticRegression\n",
    "from sklearn.pipeline import make_pipeline,Pipeline\n",
    "from sklearn.model_selection import cross_val_score,train_test_split,GridSearchCV\n",
    "from sklearn.impute import SimpleImputer\n",
    "from mlxtend.feature_extraction import PrincipalComponentAnalysis\n",
    "from category_encoders import WOEEncoder,TargetEncoder\n",
    "from sklearn.compose import ColumnTransformer\n",
    "\n",
    "\n",
    "import gc; gc.enable()"
   ]
  },
  {
   "cell_type": "code",
   "execution_count": 2,
   "metadata": {},
   "outputs": [
    {
     "name": "stdout",
     "output_type": "stream",
     "text": [
      "float64    94\n",
      "object      6\n",
      "int64       1\n",
      "dtype: int64 \n",
      "\n",
      "(40000, 101)\n"
     ]
    },
    {
     "data": {
      "text/html": [
       "<div>\n",
       "<style scoped>\n",
       "    .dataframe tbody tr th:only-of-type {\n",
       "        vertical-align: middle;\n",
       "    }\n",
       "\n",
       "    .dataframe tbody tr th {\n",
       "        vertical-align: top;\n",
       "    }\n",
       "\n",
       "    .dataframe thead th {\n",
       "        text-align: right;\n",
       "    }\n",
       "</style>\n",
       "<table border=\"1\" class=\"dataframe\">\n",
       "  <thead>\n",
       "    <tr style=\"text-align: right;\">\n",
       "      <th></th>\n",
       "      <th>x0</th>\n",
       "      <th>x1</th>\n",
       "      <th>x2</th>\n",
       "      <th>x3</th>\n",
       "      <th>x4</th>\n",
       "      <th>x5</th>\n",
       "      <th>x6</th>\n",
       "      <th>x7</th>\n",
       "      <th>x8</th>\n",
       "      <th>x9</th>\n",
       "      <th>...</th>\n",
       "      <th>x91</th>\n",
       "      <th>x92</th>\n",
       "      <th>x93</th>\n",
       "      <th>x94</th>\n",
       "      <th>x95</th>\n",
       "      <th>x96</th>\n",
       "      <th>x97</th>\n",
       "      <th>x98</th>\n",
       "      <th>x99</th>\n",
       "      <th>y</th>\n",
       "    </tr>\n",
       "  </thead>\n",
       "  <tbody>\n",
       "    <tr>\n",
       "      <th>0</th>\n",
       "      <td>0.963686</td>\n",
       "      <td>6.627185</td>\n",
       "      <td>-45.224008</td>\n",
       "      <td>9.477531</td>\n",
       "      <td>-3.216532</td>\n",
       "      <td>13.216874</td>\n",
       "      <td>9.754747</td>\n",
       "      <td>5.245851</td>\n",
       "      <td>-1.102918</td>\n",
       "      <td>-2.867482</td>\n",
       "      <td>...</td>\n",
       "      <td>0.988829</td>\n",
       "      <td>0.313772</td>\n",
       "      <td>asia</td>\n",
       "      <td>1.380664</td>\n",
       "      <td>-16.388994</td>\n",
       "      <td>5.326730</td>\n",
       "      <td>4.187294</td>\n",
       "      <td>0.045549</td>\n",
       "      <td>-3.646841</td>\n",
       "      <td>0</td>\n",
       "    </tr>\n",
       "    <tr>\n",
       "      <th>1</th>\n",
       "      <td>-1.770062</td>\n",
       "      <td>-23.610459</td>\n",
       "      <td>-0.964003</td>\n",
       "      <td>-31.981497</td>\n",
       "      <td>-10.294599</td>\n",
       "      <td>-10.240251</td>\n",
       "      <td>-1.518888</td>\n",
       "      <td>-1.675208</td>\n",
       "      <td>0.498134</td>\n",
       "      <td>-0.614390</td>\n",
       "      <td>...</td>\n",
       "      <td>-2.162863</td>\n",
       "      <td>1.809807</td>\n",
       "      <td>asia</td>\n",
       "      <td>2.500590</td>\n",
       "      <td>4.338834</td>\n",
       "      <td>-1.583225</td>\n",
       "      <td>-1.172417</td>\n",
       "      <td>0.011216</td>\n",
       "      <td>0.097180</td>\n",
       "      <td>0</td>\n",
       "    </tr>\n",
       "    <tr>\n",
       "      <th>2</th>\n",
       "      <td>9.962401</td>\n",
       "      <td>-8.349849</td>\n",
       "      <td>23.248891</td>\n",
       "      <td>-24.196879</td>\n",
       "      <td>8.937480</td>\n",
       "      <td>10.965000</td>\n",
       "      <td>-7.490596</td>\n",
       "      <td>-3.025094</td>\n",
       "      <td>0.595807</td>\n",
       "      <td>0.382732</td>\n",
       "      <td>...</td>\n",
       "      <td>1.779660</td>\n",
       "      <td>9.528113</td>\n",
       "      <td>asia</td>\n",
       "      <td>1.396475</td>\n",
       "      <td>7.839188</td>\n",
       "      <td>10.402396</td>\n",
       "      <td>1.288991</td>\n",
       "      <td>0.008209</td>\n",
       "      <td>-4.132316</td>\n",
       "      <td>0</td>\n",
       "    </tr>\n",
       "    <tr>\n",
       "      <th>3</th>\n",
       "      <td>-5.780709</td>\n",
       "      <td>-25.261584</td>\n",
       "      <td>1.383115</td>\n",
       "      <td>-11.786929</td>\n",
       "      <td>7.993078</td>\n",
       "      <td>-11.245752</td>\n",
       "      <td>-2.607351</td>\n",
       "      <td>-3.513896</td>\n",
       "      <td>-0.614235</td>\n",
       "      <td>-1.453979</td>\n",
       "      <td>...</td>\n",
       "      <td>-0.203206</td>\n",
       "      <td>4.892248</td>\n",
       "      <td>asia</td>\n",
       "      <td>0.744317</td>\n",
       "      <td>7.380982</td>\n",
       "      <td>7.599323</td>\n",
       "      <td>-8.022884</td>\n",
       "      <td>-0.067624</td>\n",
       "      <td>-1.796198</td>\n",
       "      <td>0</td>\n",
       "    </tr>\n",
       "    <tr>\n",
       "      <th>4</th>\n",
       "      <td>1.211541</td>\n",
       "      <td>1.119963</td>\n",
       "      <td>7.512938</td>\n",
       "      <td>21.987312</td>\n",
       "      <td>-5.155392</td>\n",
       "      <td>10.339416</td>\n",
       "      <td>3.045180</td>\n",
       "      <td>-0.619230</td>\n",
       "      <td>-0.928068</td>\n",
       "      <td>0.405024</td>\n",
       "      <td>...</td>\n",
       "      <td>0.248724</td>\n",
       "      <td>18.694990</td>\n",
       "      <td>asia</td>\n",
       "      <td>1.703196</td>\n",
       "      <td>-11.552129</td>\n",
       "      <td>0.381768</td>\n",
       "      <td>-3.550471</td>\n",
       "      <td>-0.055180</td>\n",
       "      <td>-3.344490</td>\n",
       "      <td>0</td>\n",
       "    </tr>\n",
       "  </tbody>\n",
       "</table>\n",
       "<p>5 rows × 101 columns</p>\n",
       "</div>"
      ],
      "text/plain": [
       "         x0         x1         x2         x3         x4         x5        x6  \\\n",
       "0  0.963686   6.627185 -45.224008   9.477531  -3.216532  13.216874  9.754747   \n",
       "1 -1.770062 -23.610459  -0.964003 -31.981497 -10.294599 -10.240251 -1.518888   \n",
       "2  9.962401  -8.349849  23.248891 -24.196879   8.937480  10.965000 -7.490596   \n",
       "3 -5.780709 -25.261584   1.383115 -11.786929   7.993078 -11.245752 -2.607351   \n",
       "4  1.211541   1.119963   7.512938  21.987312  -5.155392  10.339416  3.045180   \n",
       "\n",
       "         x7        x8        x9  ...       x91        x92   x93       x94  \\\n",
       "0  5.245851 -1.102918 -2.867482  ...  0.988829   0.313772  asia  1.380664   \n",
       "1 -1.675208  0.498134 -0.614390  ... -2.162863   1.809807  asia  2.500590   \n",
       "2 -3.025094  0.595807  0.382732  ...  1.779660   9.528113  asia  1.396475   \n",
       "3 -3.513896 -0.614235 -1.453979  ... -0.203206   4.892248  asia  0.744317   \n",
       "4 -0.619230 -0.928068  0.405024  ...  0.248724  18.694990  asia  1.703196   \n",
       "\n",
       "         x95        x96       x97       x98       x99  y  \n",
       "0 -16.388994   5.326730  4.187294  0.045549 -3.646841  0  \n",
       "1   4.338834  -1.583225 -1.172417  0.011216  0.097180  0  \n",
       "2   7.839188  10.402396  1.288991  0.008209 -4.132316  0  \n",
       "3   7.380982   7.599323 -8.022884 -0.067624 -1.796198  0  \n",
       "4 -11.552129   0.381768 -3.550471 -0.055180 -3.344490  0  \n",
       "\n",
       "[5 rows x 101 columns]"
      ]
     },
     "execution_count": 2,
     "metadata": {},
     "output_type": "execute_result"
    }
   ],
   "source": [
    "dftrain=pd.read_csv('exercise_05_train.csv')\n",
    "dftest=pd.read_csv('exercise_05_test.csv')\n",
    "\n",
    "dftn=dftrain.copy()\n",
    "dftt=dftest.copy()\n",
    "\n",
    "print(dftn.dtypes.value_counts(), '\\n')\n",
    "# print(dftn.y.unique(),'\\n')\n",
    "# print(dftn.y.value_counts(normalize=True) * 100)\n",
    "\n",
    "print(dftn.shape)\n",
    "dftn.head()"
   ]
  },
  {
   "cell_type": "code",
   "execution_count": 3,
   "metadata": {},
   "outputs": [
    {
     "name": "stdout",
     "output_type": "stream",
     "text": [
      "feat x34 has 10 unique vals\n",
      "feat x35 has 8 unique vals\n",
      "feat x41 has 37817 unique vals\n",
      "feat x45 has 10 unique vals\n",
      "feat x68 has 12 unique vals\n",
      "feat x93 has 3 unique vals\n"
     ]
    }
   ],
   "source": [
    "def count_col_cat(dftn,kind):\n",
    "    catcols=dftn.select_dtypes(include=kind)\n",
    "    for col in catcols.columns:  \n",
    "        print ('feat', dftn[col].name, 'has', dftn[col].nunique(), 'unique vals')\n",
    "        \n",
    "count_col_cat(dftn,['object'])\n",
    "# count_col_cat(dftn,['int','float'])"
   ]
  },
  {
   "cell_type": "code",
   "execution_count": null,
   "metadata": {},
   "outputs": [],
   "source": [
    "def count_col_cat(dftt,kind):\n",
    "    catcols=dftt.select_dtypes(include=kind)\n",
    "    for col in catcols.columns:  \n",
    "        print ('feat', dftt[col].name, 'has', dftt[col].nunique(), 'unique vals')\n",
    "        \n",
    "count_col_cat(dftt,['object'])\n",
    "# count_col_cat(dftn,['int','float'])"
   ]
  },
  {
   "cell_type": "markdown",
   "metadata": {},
   "source": [
    "## Cleaning Training Dataset"
   ]
  },
  {
   "cell_type": "code",
   "execution_count": 4,
   "metadata": {},
   "outputs": [
    {
     "name": "stdout",
     "output_type": "stream",
     "text": [
      "(40000, 101)\n",
      "806\n",
      "0\n",
      "(39194, 101)\n"
     ]
    }
   ],
   "source": [
    "# pd.set_option('display.max_rows', 110)\n",
    "# dftn.isnull().sum()\n",
    "\n",
    "# remove all nulls in dataset\n",
    "print(dftn.shape)\n",
    "print(dftn.isnull().sum().sum())\n",
    "dftn.dropna(inplace=True)\n",
    "print(dftn.isnull().sum().sum())\n",
    "print(dftn.shape)\n",
    "# lost 806 rows = 2.015% of dataset"
   ]
  },
  {
   "cell_type": "code",
   "execution_count": 5,
   "metadata": {},
   "outputs": [],
   "source": [
    "gc.collect()\n",
    "dftn.x35 = dftn.x35.replace(['thur','thurday'],'thursday')\n",
    "dftn.x35 = dftn.x35.replace('fri','friday')\n",
    "dftn.x35 = dftn.x35.replace('wed','wednesday')\n",
    "dftn.x68 = dftn.x68.str.lower()\n",
    "dftn.x68 = dftn.x68.str.rstrip('.')\n",
    "dftn.x41 = dftn.x41.str.strip('$')\n",
    "dftn.x45 = dftn.x45.str.rstrip('%')\n",
    "dftn.x41 = dftn.x41.astype(float)\n",
    "dftn.x45 = dftn.x45.astype(float)"
   ]
  },
  {
   "cell_type": "code",
   "execution_count": 6,
   "metadata": {},
   "outputs": [
    {
     "data": {
      "text/plain": [
       "0"
      ]
     },
     "execution_count": 6,
     "metadata": {},
     "output_type": "execute_result"
    }
   ],
   "source": [
    "dftn.isnull().sum().sum()"
   ]
  },
  {
   "cell_type": "markdown",
   "metadata": {},
   "source": [
    "## Cleaning TEST Dataset"
   ]
  },
  {
   "cell_type": "code",
   "execution_count": 7,
   "metadata": {},
   "outputs": [
    {
     "name": "stdout",
     "output_type": "stream",
     "text": [
      "(10000, 100)\n",
      "194\n",
      "0\n",
      "(9806, 100)\n"
     ]
    }
   ],
   "source": [
    "# pd.set_option('display.max_rows', 110)\n",
    "# dftt.isnull().sum()\n",
    "\n",
    "# remove all nulls in dataset\n",
    "print(dftt.shape)\n",
    "print(dftt.isnull().sum().sum())\n",
    "dftt.dropna(inplace=True)\n",
    "print(dftt.isnull().sum().sum())\n",
    "print(dftt.shape)\n",
    "# lost 806 rows = 2.015% of dataset"
   ]
  },
  {
   "cell_type": "code",
   "execution_count": 8,
   "metadata": {},
   "outputs": [],
   "source": [
    "gc.collect()\n",
    "dftt.x35 = dftt.x35.replace(['thur','thurday'],'thursday')\n",
    "dftt.x35 = dftt.x35.replace('fri','friday')\n",
    "dftt.x35 = dftt.x35.replace('wed','wednesday')\n",
    "dftt.x68 = dftt.x68.str.lower()\n",
    "dftt.x68 = dftt.x68.str.rstrip('.')\n",
    "dftt.x41 = dftt.x41.str.strip('$')\n",
    "dftt.x45 = dftt.x45.str.rstrip('%')\n",
    "dftt.x41 = dftt.x41.astype(float)\n",
    "dftt.x45 = dftt.x45.astype(float)"
   ]
  },
  {
   "cell_type": "code",
   "execution_count": 9,
   "metadata": {},
   "outputs": [
    {
     "data": {
      "text/plain": [
       "0"
      ]
     },
     "execution_count": 9,
     "metadata": {},
     "output_type": "execute_result"
    }
   ],
   "source": [
    "dftt.isnull().sum().sum()"
   ]
  },
  {
   "cell_type": "code",
   "execution_count": 10,
   "metadata": {},
   "outputs": [
    {
     "data": {
      "text/html": [
       "<div>\n",
       "<style scoped>\n",
       "    .dataframe tbody tr th:only-of-type {\n",
       "        vertical-align: middle;\n",
       "    }\n",
       "\n",
       "    .dataframe tbody tr th {\n",
       "        vertical-align: top;\n",
       "    }\n",
       "\n",
       "    .dataframe thead th {\n",
       "        text-align: right;\n",
       "    }\n",
       "</style>\n",
       "<table border=\"1\" class=\"dataframe\">\n",
       "  <thead>\n",
       "    <tr style=\"text-align: right;\">\n",
       "      <th></th>\n",
       "      <th>x0</th>\n",
       "      <th>x1</th>\n",
       "      <th>x2</th>\n",
       "      <th>x3</th>\n",
       "      <th>x4</th>\n",
       "      <th>x5</th>\n",
       "      <th>x6</th>\n",
       "      <th>x7</th>\n",
       "      <th>x8</th>\n",
       "      <th>x9</th>\n",
       "      <th>...</th>\n",
       "      <th>x90</th>\n",
       "      <th>x91</th>\n",
       "      <th>x92</th>\n",
       "      <th>x93</th>\n",
       "      <th>x94</th>\n",
       "      <th>x95</th>\n",
       "      <th>x96</th>\n",
       "      <th>x97</th>\n",
       "      <th>x98</th>\n",
       "      <th>x99</th>\n",
       "    </tr>\n",
       "  </thead>\n",
       "  <tbody>\n",
       "    <tr>\n",
       "      <th>0</th>\n",
       "      <td>0.519093</td>\n",
       "      <td>-4.606038</td>\n",
       "      <td>13.707586</td>\n",
       "      <td>-17.990903</td>\n",
       "      <td>12.873394</td>\n",
       "      <td>14.910935</td>\n",
       "      <td>2.915341</td>\n",
       "      <td>-10.110081</td>\n",
       "      <td>1.628317</td>\n",
       "      <td>-0.365064</td>\n",
       "      <td>...</td>\n",
       "      <td>-138.889799</td>\n",
       "      <td>-0.246395</td>\n",
       "      <td>-1.912581</td>\n",
       "      <td>asia</td>\n",
       "      <td>-0.633811</td>\n",
       "      <td>1.181750</td>\n",
       "      <td>-0.836542</td>\n",
       "      <td>-2.144871</td>\n",
       "      <td>0.010353</td>\n",
       "      <td>-4.819828</td>\n",
       "    </tr>\n",
       "    <tr>\n",
       "      <th>1</th>\n",
       "      <td>-12.357004</td>\n",
       "      <td>13.874141</td>\n",
       "      <td>14.052924</td>\n",
       "      <td>34.129247</td>\n",
       "      <td>34.511107</td>\n",
       "      <td>34.583336</td>\n",
       "      <td>-0.482540</td>\n",
       "      <td>-6.583407</td>\n",
       "      <td>-4.326799</td>\n",
       "      <td>-1.216928</td>\n",
       "      <td>...</td>\n",
       "      <td>117.305737</td>\n",
       "      <td>0.316266</td>\n",
       "      <td>6.838756</td>\n",
       "      <td>asia</td>\n",
       "      <td>-4.357530</td>\n",
       "      <td>0.390822</td>\n",
       "      <td>14.052604</td>\n",
       "      <td>-2.744911</td>\n",
       "      <td>-0.005648</td>\n",
       "      <td>-1.253519</td>\n",
       "    </tr>\n",
       "    <tr>\n",
       "      <th>2</th>\n",
       "      <td>1.834922</td>\n",
       "      <td>2.665252</td>\n",
       "      <td>-44.873210</td>\n",
       "      <td>21.941920</td>\n",
       "      <td>10.102981</td>\n",
       "      <td>5.962249</td>\n",
       "      <td>-5.733909</td>\n",
       "      <td>-4.061670</td>\n",
       "      <td>-0.172269</td>\n",
       "      <td>0.096051</td>\n",
       "      <td>...</td>\n",
       "      <td>-66.548569</td>\n",
       "      <td>-0.657101</td>\n",
       "      <td>3.128596</td>\n",
       "      <td>asia</td>\n",
       "      <td>1.880922</td>\n",
       "      <td>0.810115</td>\n",
       "      <td>15.737267</td>\n",
       "      <td>-9.031679</td>\n",
       "      <td>0.089295</td>\n",
       "      <td>-4.285350</td>\n",
       "    </tr>\n",
       "    <tr>\n",
       "      <th>3</th>\n",
       "      <td>20.972483</td>\n",
       "      <td>11.548506</td>\n",
       "      <td>-40.924625</td>\n",
       "      <td>-35.296796</td>\n",
       "      <td>-35.253101</td>\n",
       "      <td>-14.601890</td>\n",
       "      <td>5.045075</td>\n",
       "      <td>10.841771</td>\n",
       "      <td>-1.872260</td>\n",
       "      <td>-0.002583</td>\n",
       "      <td>...</td>\n",
       "      <td>-150.133466</td>\n",
       "      <td>-0.391609</td>\n",
       "      <td>-4.306940</td>\n",
       "      <td>asia</td>\n",
       "      <td>-2.326108</td>\n",
       "      <td>-1.968523</td>\n",
       "      <td>-4.292831</td>\n",
       "      <td>-1.674606</td>\n",
       "      <td>-0.088565</td>\n",
       "      <td>-0.981937</td>\n",
       "    </tr>\n",
       "    <tr>\n",
       "      <th>4</th>\n",
       "      <td>-9.916044</td>\n",
       "      <td>5.509811</td>\n",
       "      <td>31.749288</td>\n",
       "      <td>-0.803916</td>\n",
       "      <td>-4.005098</td>\n",
       "      <td>20.912490</td>\n",
       "      <td>0.419346</td>\n",
       "      <td>-2.949516</td>\n",
       "      <td>1.057176</td>\n",
       "      <td>-0.338547</td>\n",
       "      <td>...</td>\n",
       "      <td>-23.313528</td>\n",
       "      <td>-3.207335</td>\n",
       "      <td>2.294935</td>\n",
       "      <td>asia</td>\n",
       "      <td>3.654200</td>\n",
       "      <td>12.774511</td>\n",
       "      <td>-10.603162</td>\n",
       "      <td>0.971344</td>\n",
       "      <td>0.062776</td>\n",
       "      <td>1.557684</td>\n",
       "    </tr>\n",
       "  </tbody>\n",
       "</table>\n",
       "<p>5 rows × 100 columns</p>\n",
       "</div>"
      ],
      "text/plain": [
       "          x0         x1         x2         x3         x4         x5        x6  \\\n",
       "0   0.519093  -4.606038  13.707586 -17.990903  12.873394  14.910935  2.915341   \n",
       "1 -12.357004  13.874141  14.052924  34.129247  34.511107  34.583336 -0.482540   \n",
       "2   1.834922   2.665252 -44.873210  21.941920  10.102981   5.962249 -5.733909   \n",
       "3  20.972483  11.548506 -40.924625 -35.296796 -35.253101 -14.601890  5.045075   \n",
       "4  -9.916044   5.509811  31.749288  -0.803916  -4.005098  20.912490  0.419346   \n",
       "\n",
       "          x7        x8        x9  ...         x90       x91       x92   x93  \\\n",
       "0 -10.110081  1.628317 -0.365064  ... -138.889799 -0.246395 -1.912581  asia   \n",
       "1  -6.583407 -4.326799 -1.216928  ...  117.305737  0.316266  6.838756  asia   \n",
       "2  -4.061670 -0.172269  0.096051  ...  -66.548569 -0.657101  3.128596  asia   \n",
       "3  10.841771 -1.872260 -0.002583  ... -150.133466 -0.391609 -4.306940  asia   \n",
       "4  -2.949516  1.057176 -0.338547  ...  -23.313528 -3.207335  2.294935  asia   \n",
       "\n",
       "        x94        x95        x96       x97       x98       x99  \n",
       "0 -0.633811   1.181750  -0.836542 -2.144871  0.010353 -4.819828  \n",
       "1 -4.357530   0.390822  14.052604 -2.744911 -0.005648 -1.253519  \n",
       "2  1.880922   0.810115  15.737267 -9.031679  0.089295 -4.285350  \n",
       "3 -2.326108  -1.968523  -4.292831 -1.674606 -0.088565 -0.981937  \n",
       "4  3.654200  12.774511 -10.603162  0.971344  0.062776  1.557684  \n",
       "\n",
       "[5 rows x 100 columns]"
      ]
     },
     "execution_count": 10,
     "metadata": {},
     "output_type": "execute_result"
    }
   ],
   "source": [
    "dftt.head()"
   ]
  },
  {
   "cell_type": "markdown",
   "metadata": {},
   "source": [
    "## Modeling"
   ]
  },
  {
   "cell_type": "code",
   "execution_count": 11,
   "metadata": {},
   "outputs": [],
   "source": [
    "usedcols = [c for c in dftn.columns.tolist() if c not in ['y']    ]"
   ]
  },
  {
   "cell_type": "code",
   "execution_count": 12,
   "metadata": {},
   "outputs": [],
   "source": [
    "X,y=dftn[usedcols],dftn.y"
   ]
  },
  {
   "cell_type": "code",
   "execution_count": 13,
   "metadata": {},
   "outputs": [
    {
     "data": {
      "text/plain": [
       "(array([0.98247647, 0.98337192, 0.98560725, 0.98190966, 0.9787943 ]),\n",
       " 0.9824319189249209,\n",
       " 0.0022123907209288573)"
      ]
     },
     "execution_count": 13,
     "metadata": {},
     "output_type": "execute_result"
    }
   ],
   "source": [
    "from lightgbm import LGBMClassifier,plot_importance\n",
    "encoder=TargetEncoder()\n",
    "lgm=LGBMClassifier()\n",
    "\n",
    "binner = KBinsDiscretizer(n_bins=10, encode='onehot-dense')\n",
    "pipe = make_pipeline(encoder,lgm)\n",
    "scores = cross_val_score(pipe, X, y, cv=5, scoring='roc_auc', n_jobs=-1) # this line of code does everything, meaning fitting encoder, modeling, and predicting\n",
    "scores, scores.mean(), scores.std()\n",
    "# runtime: <5 seconds"
   ]
  },
  {
   "cell_type": "code",
   "execution_count": 14,
   "metadata": {},
   "outputs": [
    {
     "data": {
      "text/plain": [
       "Pipeline(memory=None,\n",
       "         steps=[('targetencoder',\n",
       "                 TargetEncoder(cols=['x34', 'x35', 'x68', 'x93'],\n",
       "                               drop_invariant=False, handle_missing='value',\n",
       "                               handle_unknown='value', min_samples_leaf=1,\n",
       "                               return_df=True, smoothing=1.0, verbose=0)),\n",
       "                ('lgbmclassifier',\n",
       "                 LGBMClassifier(boosting_type='gbdt', class_weight=None,\n",
       "                                colsample_bytree=1.0, importance_type='split',\n",
       "                                learning_rate=0.1, max_depth=-1,\n",
       "                                min_child_samples=20, min_child_weight=0.001,\n",
       "                                min_split_gain=0.0, n_estimators=100, n_jobs=-1,\n",
       "                                num_leaves=31, objective=None,\n",
       "                                random_state=None, reg_alpha=0.0,\n",
       "                                reg_lambda=0.0, silent=True, subsample=1.0,\n",
       "                                subsample_for_bin=200000, subsample_freq=0))],\n",
       "         verbose=False)"
      ]
     },
     "execution_count": 14,
     "metadata": {},
     "output_type": "execute_result"
    }
   ],
   "source": [
    "pipe.fit(X,y)"
   ]
  },
  {
   "cell_type": "code",
   "execution_count": 15,
   "metadata": {},
   "outputs": [
    {
     "data": {
      "text/plain": [
       "array([[0.95520143, 0.04479857],\n",
       "       [0.98131735, 0.01868265],\n",
       "       [0.98374026, 0.01625974],\n",
       "       ...,\n",
       "       [0.98494219, 0.01505781],\n",
       "       [0.05946462, 0.94053538],\n",
       "       [0.96729383, 0.03270617]])"
      ]
     },
     "execution_count": 15,
     "metadata": {},
     "output_type": "execute_result"
    }
   ],
   "source": [
    "pipe.predict_proba(dftt)"
   ]
  },
  {
   "cell_type": "markdown",
   "metadata": {},
   "source": [
    "## Feature Selection/Importance"
   ]
  },
  {
   "cell_type": "code",
   "execution_count": 17,
   "metadata": {},
   "outputs": [
    {
     "data": {
      "text/plain": [
       "<matplotlib.axes._subplots.AxesSubplot at 0x7f953cee73d0>"
      ]
     },
     "execution_count": 17,
     "metadata": {},
     "output_type": "execute_result"
    },
    {
     "data": {
      "image/png": "[encoded data removed]",
      "text/plain": [
       "<Figure size 1008x720 with 1 Axes>"
      ]
     },
     "metadata": {
      "needs_background": "light"
     },
     "output_type": "display_data"
    }
   ],
   "source": [
    "from lightgbm import plot_importance\n",
    "plot_importance(lgm,max_num_features=15,figsize=(14,10))"
   ]
  },
  {
   "cell_type": "code",
   "execution_count": 18,
   "metadata": {},
   "outputs": [
    {
     "data": {
      "text/plain": [
       "array([24, 73, 57, 65, 82, 50,  0,  0, 50,  0, 66,  0, 87,  0,  0,  0,  0,\n",
       "        0, 25, 63, 27, 75, 38,  0,  0, 38,  0, 45,  0,  0,  0,  0,  0, 58,\n",
       "        0, 26,  0, 67,  0,  0, 87, 41, 20, 65, 81, 25,  0, 73,  0, 51, 76,\n",
       "       59,  0, 84,  0,  0, 82, 81, 78,  0,  0, 23,  0, 75,  0,  0, 56,  0,\n",
       "        8, 16, 57, 41, 61, 36, 36, 71,  0, 32, 59, 42, 41,  0,  0, 67,  0,\n",
       "       47,  0,  0,  0,  0, 19,  0,  0,  0,  0, 64, 59, 72,  0, 99],\n",
       "      dtype=int32)"
      ]
     },
     "execution_count": 18,
     "metadata": {},
     "output_type": "execute_result"
    }
   ],
   "source": [
    "lgm.feature_importances_\n",
    "# can turn feature importance into dataframe, and make it easier to use. then sort values etc..\n"
   ]
  },
  {
   "cell_type": "markdown",
   "metadata": {},
   "source": [
    "## CHARTS"
   ]
  },
  {
   "cell_type": "code",
   "execution_count": 19,
   "metadata": {},
   "outputs": [
    {
     "data": {
      "image/png": "[encoded data removed]",
      "text/plain": [
       "<Figure size 576x432 with 1 Axes>"
      ]
     },
     "metadata": {
      "needs_background": "light"
     },
     "output_type": "display_data"
    }
   ],
   "source": [
    "fig, ax = plt.subplots(figsize=(20,19))\n",
    "dftn.x35.value_counts()[:20].plot(kind='bar',figsize=(8,6))\n",
    "fig.savefig(\"topday.png\", figsize=(20,12))"
   ]
  },
  {
   "cell_type": "code",
   "execution_count": 20,
   "metadata": {},
   "outputs": [
    {
     "data": {
      "image/png": "[encoded data removed]",
      "text/plain": [
       "<Figure size 1224x648 with 1 Axes>"
      ]
     },
     "metadata": {
      "needs_background": "light"
     },
     "output_type": "display_data"
    }
   ],
   "source": [
    "fig, ax = plt.subplots(figsize=(17,9))\n",
    "dftn.x34.value_counts()[:30].plot(kind='bar')\n",
    "fig.savefig(\"topvehicle.png\", figsize=(19.20,10.80))"
   ]
  },
  {
   "cell_type": "code",
   "execution_count": 21,
   "metadata": {},
   "outputs": [
    {
     "data": {
      "image/png": "[encoded data removed]",
      "text/plain": [
       "<Figure size 1224x648 with 1 Axes>"
      ]
     },
     "metadata": {
      "needs_background": "light"
     },
     "output_type": "display_data"
    }
   ],
   "source": [
    "fig, ax = plt.subplots(figsize=(17,9))\n",
    "dftn.x68.value_counts()[:20].plot(kind='bar')\n",
    "fig.savefig(\"topmonth.png\", figsize=(19.20,10.80))"
   ]
  },
  {
   "cell_type": "code",
   "execution_count": 22,
   "metadata": {},
   "outputs": [
    {
     "data": {
      "image/png": "[encoded data removed]",
      "text/plain": [
       "<Figure size 720x432 with 1 Axes>"
      ]
     },
     "metadata": {
      "needs_background": "light"
     },
     "output_type": "display_data"
    }
   ],
   "source": [
    "fig, ax = plt.subplots(figsize=(10,6))\n",
    "dftn.x93.value_counts()[:20].plot(kind='bar')\n",
    "fig.savefig(\"topcontinent.png\", figsize=(19.20,10.80))"
   ]
  },
  {
   "cell_type": "code",
   "execution_count": null,
   "metadata": {},
   "outputs": [],
   "source": []
  },
  {
   "cell_type": "code",
   "execution_count": null,
   "metadata": {},
   "outputs": [],
   "source": []
  },
  {
   "cell_type": "code",
   "execution_count": null,
   "metadata": {},
   "outputs": [],
   "source": []
  },
  {
   "cell_type": "code",
   "execution_count": null,
   "metadata": {},
   "outputs": [],
   "source": []
  },
  {
   "cell_type": "code",
   "execution_count": null,
   "metadata": {},
   "outputs": [],
   "source": []
  },
  {
   "cell_type": "code",
   "execution_count": null,
   "metadata": {},
   "outputs": [],
   "source": []
  },
  {
   "cell_type": "code",
   "execution_count": null,
   "metadata": {},
   "outputs": [],
   "source": []
  }
 ],
 "metadata": {
  "kernelspec": {
   "display_name": "Python 3",
   "language": "python",
   "name": "python3"
  },
  "language_info": {
   "codemirror_mode": {
    "name": "ipython",
    "version": 3
   },
   "file_extension": ".py",
   "mimetype": "text/x-python",
   "name": "python",
   "nbconvert_exporter": "python",
   "pygments_lexer": "ipython3",
   "version": "3.7.6"
  }
 },
 "nbformat": 4,
 "nbformat_minor": 4
}
